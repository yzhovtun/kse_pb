{
  "nbformat": 4,
  "nbformat_minor": 0,
  "metadata": {
    "colab": {
      "provenance": [],
      "authorship_tag": "ABX9TyO03UPnCfWiFI8U4P2MrQo+",
      "include_colab_link": true
    },
    "kernelspec": {
      "name": "python3",
      "display_name": "Python 3"
    },
    "language_info": {
      "name": "python"
    }
  },
  "cells": [
    {
      "cell_type": "markdown",
      "metadata": {
        "id": "view-in-github",
        "colab_type": "text"
      },
      "source": [
        "<a href=\"https://colab.research.google.com/github/yzhovtun/kse_pb/blob/main/PR2.ipynb\" target=\"_parent\"><img src=\"https://colab.research.google.com/assets/colab-badge.svg\" alt=\"Open In Colab\"/></a>"
      ]
    },
    {
      "cell_type": "code",
      "execution_count": null,
      "metadata": {
        "collapsed": true,
        "id": "gOs2ivrKaYVB"
      },
      "outputs": [],
      "source": [
        "first_name = \"Yaroslava\"\n",
        "last_name =  \"Zhovtun\"\n",
        "user_age = 17\n",
        "user_height = 1.72\n",
        "intp = True\n",
        "istp = False\n",
        "blue = 1\n",
        "pink = 0\n",
        "student_at = \"kse\"\n",
        "natoinality = \"ukrainian\"\n",
        "\n"
      ]
    },
    {
      "cell_type": "code",
      "source": [
        "a = 5\n",
        "b = 10\n",
        "print(\"a =\", a)\n",
        "print(\"b =\", b)\n",
        "a, b = b, a\n",
        "print(\"a =\", a)\n",
        "print(\"b =\", b)"
      ],
      "metadata": {
        "colab": {
          "base_uri": "https://localhost:8080/"
        },
        "collapsed": true,
        "id": "IUbWQFf6c4Ib",
        "outputId": "8371b975-6fc6-4eaa-d5ec-15ed2a38b360"
      },
      "execution_count": null,
      "outputs": [
        {
          "output_type": "stream",
          "name": "stdout",
          "text": [
            "a = 5\n",
            "b = 10\n",
            "a = 10\n",
            "b = 5\n"
          ]
        }
      ]
    },
    {
      "cell_type": "code",
      "source": [
        "x = 3\n",
        "y = 9\n",
        "res1 = 2 * x + 3 * y\n",
        "res2 = x ** 2 * x * y + y**2\n",
        "res3 = (2/8) * x - (13/7) * y\n",
        "res4 = x % y\n",
        "res5 = (y // x) ** 2\n",
        "res6 = x > y\n",
        "res7 = x**2 != y\n",
        "print(\"2x + 3y =\", res1)\n",
        "print(\"x^2 + 2xy + y^2 =\", res2)\n",
        "print(\" (2/8)X - (13/7)y=\", res3)\n",
        "print(\"x > y:\", res6)\n",
        "print(\"x^2 != y:\", res7)\n",
        "\n",
        "\n"
      ],
      "metadata": {
        "colab": {
          "base_uri": "https://localhost:8080/"
        },
        "collapsed": true,
        "id": "UW1iTENUfENy",
        "outputId": "95e0b349-fb4c-4943-bc09-2134486bd97b"
      },
      "execution_count": null,
      "outputs": [
        {
          "output_type": "stream",
          "name": "stdout",
          "text": [
            "2x + 3y = 33\n",
            "x^2 + 2xy + y^2 = 324\n",
            " (2/8)X - (13/7)y= -15.964285714285715\n",
            "x > y: False\n",
            "x^2 != y: False\n"
          ]
        }
      ]
    },
    {
      "cell_type": "code",
      "source": [
        "product_name = \"Pizza\"\n",
        "product_price = 100\n",
        "product_info = f\"{product_name} costs {product_price} hryvnas\"\n",
        "print(product_info)\n",
        "\n"
      ],
      "metadata": {
        "colab": {
          "base_uri": "https://localhost:8080/"
        },
        "id": "bzS2hPtZiYcU",
        "outputId": "8d965833-f58c-4191-c47d-7cf999daa176"
      },
      "execution_count": null,
      "outputs": [
        {
          "output_type": "stream",
          "name": "stdout",
          "text": [
            "Pizza costs 100 hryvnas\n"
          ]
        }
      ]
    },
    {
      "cell_type": "code",
      "source": [
        "x1 = 5\n",
        "x2 = 7\n",
        "x3 = 32\n",
        "x4 = 98\n",
        "result = ((x1>x3) or (x2>x4)) and not (x2 != x3) or (x1 == x4)\n",
        "print(\"Result\", result)"
      ],
      "metadata": {
        "colab": {
          "base_uri": "https://localhost:8080/"
        },
        "id": "7EZefd1nk-K7",
        "outputId": "9baedbdf-05c1-4edb-dfb7-3fafc87f68b1"
      },
      "execution_count": null,
      "outputs": [
        {
          "output_type": "stream",
          "name": "stdout",
          "text": [
            "Result False\n"
          ]
        }
      ]
    },
    {
      "cell_type": "code",
      "source": [
        "height = 1.72\n",
        "weight = 56\n",
        "bmi = weight / (height ** 2)\n",
        "print(f\"With a weight of {weight} kg and height {height} meters your BMI is {round(bmi, 2)}\")"
      ],
      "metadata": {
        "colab": {
          "base_uri": "https://localhost:8080/"
        },
        "id": "3hZeEdcQm0I3",
        "outputId": "d9127177-5cd4-4964-d81b-cb20b5f59286"
      },
      "execution_count": null,
      "outputs": [
        {
          "output_type": "stream",
          "name": "stdout",
          "text": [
            "With a weight of 56 kg and height 1.72 meters your BMI is 18.93\n"
          ]
        }
      ]
    },
    {
      "cell_type": "code",
      "source": [
        "r1 = 30\n",
        "r2 = 36.3\n",
        "area1 = 3.14 * r1**2\n",
        "area2 = 3.14 * r2**2\n"
      ],
      "metadata": {
        "id": "dn26N73ioNQK"
      },
      "execution_count": null,
      "outputs": []
    },
    {
      "cell_type": "markdown",
      "source": [],
      "metadata": {
        "id": "2sPeG2m3hB8r"
      }
    }
  ]
}